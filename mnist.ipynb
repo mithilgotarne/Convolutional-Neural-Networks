{
  "nbformat": 4,
  "nbformat_minor": 0,
  "metadata": {
    "colab": {
      "name": "mnist.ipynb",
      "version": "0.3.2",
      "provenance": [],
      "include_colab_link": true
    },
    "kernelspec": {
      "name": "python3",
      "display_name": "Python 3"
    },
    "accelerator": "GPU"
  },
  "cells": [
    {
      "cell_type": "markdown",
      "metadata": {
        "id": "view-in-github",
        "colab_type": "text"
      },
      "source": [
        "<a href=\"https://colab.research.google.com/github/mithilgotarne/Convolutional-Neural-Networks/blob/master/mnist.ipynb\" target=\"_parent\"><img src=\"https://colab.research.google.com/assets/colab-badge.svg\" alt=\"Open In Colab\"/></a>"
      ]
    },
    {
      "metadata": {
        "id": "yptfRq0phtm_",
        "colab_type": "code",
        "colab": {}
      },
      "cell_type": "code",
      "source": [
        "################################################################################\n",
        "#\n",
        "# xNNs_Code_01_Vision_Class_MNIST.py\n",
        "#\n",
        "# DESCRIPTION\n",
        "#\n",
        "#    TensorFlow MNIST example\n",
        "#\n",
        "# INSTRUCTIONS\n",
        "#\n",
        "#    1. Go to Google Colaboratory: https://colab.research.google.com/notebooks/welcome.ipynb\n",
        "#    2. File - New Python 3 notebook\n",
        "#    3. Cut and paste this file into the cell (feel free to divide into multiple cells)\n",
        "#    4. Runtime - Change runtime type - Hardware accelerator - GPU\n",
        "#    5. Runtime - Run all\n",
        "#\n",
        "################################################################################\n"
      ],
      "execution_count": 0,
      "outputs": []
    },
    {
      "metadata": {
        "id": "Y9OZbiMCiHes",
        "colab_type": "code",
        "colab": {}
      },
      "cell_type": "code",
      "source": [
        "################################################################################\n",
        "#\n",
        "# IMPORT\n",
        "#\n",
        "################################################################################\n",
        "\n",
        "# tenorflow\n",
        "import tensorflow as     tf\n",
        "from   tensorflow import keras\n",
        "\n",
        "# additional libraries\n",
        "import numpy             as np\n",
        "import matplotlib.pyplot as plt\n",
        "%matplotlib inline"
      ],
      "execution_count": 0,
      "outputs": []
    },
    {
      "metadata": {
        "id": "xa6-YyS2iHiZ",
        "colab_type": "code",
        "colab": {}
      },
      "cell_type": "code",
      "source": [
        "################################################################################\n",
        "#\n",
        "# PARAMETERS\n",
        "#\n",
        "################################################################################\n",
        "\n",
        "# data\n",
        "DATA_NUM_CLASSES = 10\n",
        "\n",
        "# model\n",
        "MODEL_LAYER_0 = 1000\n",
        "MODEL_LAYER_1 = 100\n",
        "\n",
        "# training\n",
        "TRAINING_BATCH_SIZE        = 32\n",
        "TRAINING_NUM_EPOCHS        = 6\n",
        "TRAINING_MOMENTUM          = 0.9                    # currently not used\n",
        "TRAINING_REGULARIZER_SCALE = 0.1                    # currently not used\n",
        "TRAINING_LR_INITIAL        = 0.001\n",
        "TRAINING_LR_SCALE          = 0.1\n",
        "TRAINING_LR_EPOCHS         = 2\n",
        "TRAINING_LR_STAIRCASE      = True\n",
        "TRAINING_MAX_CHECKPOINTS   = 5\n",
        "TRAINING_CHECKPOINT_FILE   = './logs/model_{}.ckpt' # currently not used"
      ],
      "execution_count": 0,
      "outputs": []
    },
    {
      "metadata": {
        "id": "yXzuC9gIiHl5",
        "colab_type": "code",
        "colab": {}
      },
      "cell_type": "code",
      "source": [
        "################################################################################\n",
        "#\n",
        "# PRE PROCESSING\n",
        "#\n",
        "################################################################################\n",
        "\n",
        "def pre_processing_train(image, label):\n",
        "    \n",
        "    # note: this function operates on 8 bit data then normalizes to a float\n",
        "    \n",
        "    # normalization\n",
        "    # this constrains values to [0, 1]\n",
        "    # the mean is not subtracted as there are many 0 values to start in the greyscale image\n",
        "    image = tf.cast(image, tf.float32)/255.0\n",
        "    \n",
        "    return image, label\n",
        "\n",
        "def pre_processing_test(image, label):\n",
        "    \n",
        "    # note: this function operates on 8 bit data then normalizes to a float\n",
        "    \n",
        "    # normalization\n",
        "    # this constrains values to [0, 1]\n",
        "    # the mean is not subtracted as there are many 0 values to start in the greyscale image\n",
        "    image = tf.cast(image, tf.float32)/255.0\n",
        "\n",
        "    return image, label\n"
      ],
      "execution_count": 0,
      "outputs": []
    },
    {
      "metadata": {
        "id": "vQw35r0FiHpL",
        "colab_type": "code",
        "outputId": "c42fc597-3ce9-42d1-a3df-5b98e357786c",
        "colab": {
          "base_uri": "https://localhost:8080/",
          "height": 51
        }
      },
      "cell_type": "code",
      "source": [
        "\n",
        "################################################################################\n",
        "#\n",
        "# DATASET\n",
        "#\n",
        "################################################################################\n",
        "\n",
        "# download\n",
        "mnist = keras.datasets.mnist\n",
        "\n",
        "# training and testing split\n",
        "(data_train, labels_train), (data_test, labels_test) = mnist.load_data()\n",
        "\n",
        "# label typecast\n",
        "labels_train = labels_train.astype(np.int32)\n",
        "labels_test  = labels_test.astype(np.int32)\n",
        "labels_train = np.squeeze(labels_train)\n",
        "labels_test  = np.squeeze(labels_test)\n",
        "\n",
        "# dataset\n",
        "dataset_train = tf.data.Dataset.from_tensor_slices((data_train, labels_train))\n",
        "dataset_test  = tf.data.Dataset.from_tensor_slices((data_test,  labels_test))\n",
        "\n",
        "# transformation\n",
        "dataset_train = dataset_train.repeat().map(pre_processing_train).batch(TRAINING_BATCH_SIZE)\n",
        "dataset_test  = dataset_test.repeat().map(pre_processing_test).batch(TRAINING_BATCH_SIZE)\n",
        "\n",
        "# display\n",
        "# print(data_train.shape)\n",
        "# print(data_test.shape)\n",
        "# print(labels_train.shape)\n",
        "# print(labels_test.shape)\n"
      ],
      "execution_count": 0,
      "outputs": [
        {
          "output_type": "stream",
          "text": [
            "Downloading data from https://storage.googleapis.com/tensorflow/tf-keras-datasets/mnist.npz\n",
            "11493376/11490434 [==============================] - 0s 0us/step\n"
          ],
          "name": "stdout"
        }
      ]
    },
    {
      "metadata": {
        "id": "Mytb9jidiHr5",
        "colab_type": "code",
        "outputId": "efd6225a-1148-4ec0-e93b-d70bdb975c68",
        "colab": {
          "base_uri": "https://localhost:8080/",
          "height": 68
        }
      },
      "cell_type": "code",
      "source": [
        "################################################################################\n",
        "#\n",
        "# ITERATOR\n",
        "#\n",
        "################################################################################\n",
        "\n",
        "# iterator\n",
        "iterator            = tf.data.Iterator.from_structure(dataset_train.output_types, dataset_train.output_shapes)\n",
        "iterator_init_train = iterator.make_initializer(dataset_train)\n",
        "iterator_init_test  = iterator.make_initializer(dataset_test)\n",
        "\n",
        "# example\n",
        "# data.shape   = TRAINING_BATCH_SIZE x rows x cols\n",
        "# labels.shape = TRAINING_BATCH_SIZE x 1\n",
        "data, labels = iterator.get_next()\n"
      ],
      "execution_count": 0,
      "outputs": [
        {
          "output_type": "stream",
          "text": [
            "WARNING:tensorflow:From /usr/local/lib/python3.6/dist-packages/tensorflow/python/data/ops/iterator_ops.py:358: colocate_with (from tensorflow.python.framework.ops) is deprecated and will be removed in a future version.\n",
            "Instructions for updating:\n",
            "Colocations handled automatically by placer.\n"
          ],
          "name": "stdout"
        }
      ]
    },
    {
      "metadata": {
        "id": "xRlkOmU7iHvB",
        "colab_type": "code",
        "colab": {}
      },
      "cell_type": "code",
      "source": [
        "\n",
        "################################################################################\n",
        "#\n",
        "# MODEL - NN\n",
        "#\n",
        "################################################################################\n",
        "\n",
        "# nn model\n",
        "def model_nn(data, train_state, size_layer_0, size_layer_1, num_classes):\n",
        "    \n",
        "    # encoder\n",
        "    fm       = tf.layers.flatten(data)                                                 # fm.shape = TRAINING_BATCH_SIZE x (rows*cols)\n",
        "    fm       = tf.layers.dense(fm, size_layer_0, activation=tf.nn.relu, use_bias=True) # fm.shape = TRAINING_BATCH_SIZE x size_layer_0\n",
        "    features = tf.layers.dense(fm, size_layer_1, activation=tf.nn.relu, use_bias=True) # fm.shape = TRAINING_BATCH_SIZE x size_layer_1\n",
        "    \n",
        "    # decoder\n",
        "    # predictions.shape = TRAINING_BATCH_SIZE x num_classes\n",
        "    predictions = tf.layers.dense(features, num_classes, activation=None, use_bias=True)\n",
        "    \n",
        "    # return\n",
        "    return predictions\n"
      ],
      "execution_count": 0,
      "outputs": []
    },
    {
      "metadata": {
        "id": "xiqtpjbXiHyR",
        "colab_type": "code",
        "outputId": "da9f93a5-1d73-4724-b16c-96926296e3e7",
        "colab": {
          "base_uri": "https://localhost:8080/",
          "height": 272
        }
      },
      "cell_type": "code",
      "source": [
        "################################################################################\n",
        "#\n",
        "# TRAINING\n",
        "#\n",
        "################################################################################\n",
        "\n",
        "# state\n",
        "train_state = tf.placeholder(tf.bool, name='train_state')\n",
        "\n",
        "# data\n",
        "num_train         = len(data_train)\n",
        "num_test          = len(data_test)\n",
        "num_batches_train = int(num_train/TRAINING_BATCH_SIZE)\n",
        "num_batches_test  = int(num_test/TRAINING_BATCH_SIZE)\n",
        "\n",
        "# display\n",
        "# print(num_train)\n",
        "# print(num_test)\n",
        "# print(num_batches_train)\n",
        "# print(num_batches_test)\n",
        "\n",
        "# model\n",
        "predictions      = model_nn(data, train_state, MODEL_LAYER_0, MODEL_LAYER_1, DATA_NUM_CLASSES)\n",
        "predictions_test = np.zeros((num_test, DATA_NUM_CLASSES), dtype=np.float32)\n",
        "\n",
        "# accuracy\n",
        "accuracy = tf.reduce_sum(tf.cast(tf.equal(tf.argmax(predictions, 1), tf.cast(labels, tf.int64)), tf.float32))\n",
        "\n",
        "# loss\n",
        "loss = tf.losses.sparse_softmax_cross_entropy(labels=labels, logits=predictions)\n",
        "\n",
        "# optimizer\n",
        "global_step   = tf.Variable(0, trainable=False)\n",
        "learning_rate = tf.train.exponential_decay(TRAINING_LR_INITIAL, global_step, TRAINING_LR_EPOCHS*num_batches_train, TRAINING_LR_SCALE, staircase=TRAINING_LR_STAIRCASE)\n",
        "update_ops    = tf.get_collection(tf.GraphKeys.UPDATE_OPS)\n",
        "with tf.control_dependencies(update_ops):\n",
        "    optimizer = tf.train.AdamOptimizer(learning_rate).minimize(loss, global_step=global_step)\n",
        "    # optimizer = tf.train.MomentumOptimizer(learning_rate, TRAINING_MOMENTUM, use_nesterov=True).minimize(loss, global_step=global_step)\n",
        "\n",
        "# saver\n",
        "# saver = tf.train.Saver(max_to_keep=TRAINING_MAX_CHECKPOINTS)\n",
        "\n",
        "# create a session\n",
        "session = tf.Session()\n",
        "    \n",
        "# initialize global variables\n",
        "session.run(tf.global_variables_initializer())\n",
        "\n",
        "# cycle through the epochs\n",
        "for epoch_index in range(TRAINING_NUM_EPOCHS):\n",
        "    \n",
        "    # train\n",
        "    # initialize the iterator to the training dataset\n",
        "    # cycle through the training batches\n",
        "    # example, encoder, decoder, error, gradient computation and update\n",
        "    session.run(iterator_init_train)\n",
        "    for batch_index in range(num_batches_train):\n",
        "        session.run(optimizer, feed_dict={train_state: True})\n",
        "\n",
        "    # validate\n",
        "    # initialize the iterator to the testing dataset\n",
        "    # reset the accuracy statistics\n",
        "    # cycle through the testing batches\n",
        "    # example, encoder, decoder, accuracy\n",
        "    session.run(iterator_init_test)\n",
        "    num_correct = 0\n",
        "    for batch_index in range(num_batches_test):\n",
        "        num_correct_batch, predictions_batch    = session.run([accuracy, predictions], feed_dict={train_state: False})\n",
        "        num_correct                            += num_correct_batch\n",
        "        row_start                               = batch_index*TRAINING_BATCH_SIZE\n",
        "        row_end                                 = (batch_index + 1)*TRAINING_BATCH_SIZE\n",
        "        predictions_test[row_start:row_end, :]  = predictions_batch\n",
        "\n",
        "    # display\n",
        "    print('Epoch {0:3d}: top 1 accuracy on the test set is {1:5.2f} %'.format(epoch_index, (100.0*num_correct)/(TRAINING_BATCH_SIZE*num_batches_test)))\n",
        "\n",
        "    # save\n",
        "    # saver.save(session, TRAINING_CHECKPOINT_FILE.format(epoch_index))\n",
        "\n",
        "# close the session\n",
        "session.close()"
      ],
      "execution_count": 0,
      "outputs": [
        {
          "output_type": "stream",
          "text": [
            "WARNING:tensorflow:From <ipython-input-6-899dc180bfe6>:4: flatten (from tensorflow.python.layers.core) is deprecated and will be removed in a future version.\n",
            "Instructions for updating:\n",
            "Use keras.layers.flatten instead.\n",
            "WARNING:tensorflow:From <ipython-input-6-899dc180bfe6>:5: dense (from tensorflow.python.layers.core) is deprecated and will be removed in a future version.\n",
            "Instructions for updating:\n",
            "Use keras.layers.dense instead.\n",
            "WARNING:tensorflow:From /usr/local/lib/python3.6/dist-packages/tensorflow/python/ops/losses/losses_impl.py:209: to_float (from tensorflow.python.ops.math_ops) is deprecated and will be removed in a future version.\n",
            "Instructions for updating:\n",
            "Use tf.cast instead.\n",
            "Epoch   0: top 1 accuracy on the test set is 95.65 %\n",
            "Epoch   1: top 1 accuracy on the test set is 96.36 %\n",
            "Epoch   2: top 1 accuracy on the test set is 98.25 %\n",
            "Epoch   3: top 1 accuracy on the test set is 98.31 %\n",
            "Epoch   4: top 1 accuracy on the test set is 98.42 %\n",
            "Epoch   5: top 1 accuracy on the test set is 98.45 %\n"
          ],
          "name": "stdout"
        }
      ]
    },
    {
      "metadata": {
        "id": "zd8p8YXZiH1Z",
        "colab_type": "code",
        "outputId": "3cc28cb8-9ce0-4691-e6d0-672602fb6b53",
        "colab": {
          "base_uri": "https://localhost:8080/",
          "height": 8497
        }
      },
      "cell_type": "code",
      "source": [
        "################################################################################\n",
        "#\n",
        "# DISPLAY\n",
        "#\n",
        "################################################################################\n",
        "\n",
        "# create a session\n",
        "session = tf.Session()\n",
        "\n",
        "# initialize global variables\n",
        "session.run(tf.global_variables_initializer())\n",
        "\n",
        "# initialize the test iterator\n",
        "session.run(iterator_init_test)\n",
        "\n",
        "# cycle through a few batches\n",
        "for batch_index in range(1):\n",
        "    \n",
        "    # generate data and labels\n",
        "    data_batch, labels_batch = session.run([data, labels])\n",
        "    \n",
        "    # convert the final saved predictions to labels\n",
        "    row_start          = batch_index*TRAINING_BATCH_SIZE\n",
        "    row_end            = (batch_index + 1)*TRAINING_BATCH_SIZE\n",
        "    predictions_labels = np.argmax(predictions_test[row_start:row_end, :], axis=1)\n",
        "    \n",
        "    # cycle through the images in the batch\n",
        "    for image_index in range(TRAINING_BATCH_SIZE):\n",
        "        \n",
        "        # display the predicted label, actual label and image\n",
        "        print('Predicted label: {0:1d} and actual label: {1:1d}'.format(predictions_labels[image_index], labels_batch[image_index]))\n",
        "        plt.imshow(data_batch[image_index, :, :], cmap='gray')\n",
        "        plt.show()\n",
        "\n",
        "# close the session\n",
        "session.close()"
      ],
      "execution_count": 0,
      "outputs": [
        {
          "output_type": "stream",
          "text": [
            "Predicted label: 7 and actual label: 7\n"
          ],
          "name": "stdout"
        },
        {
          "output_type": "display_data",
          "data": {
            "image/png": "[encoded data removed]",
            "text/plain": [
              "<Figure size 432x288 with 1 Axes>"
            ]
          },
          "metadata": {
            "tags": []
          }
        },
        {
          "output_type": "stream",
          "text": [
            "Predicted label: 2 and actual label: 2\n"
          ],
          "name": "stdout"
        },
        {
          "output_type": "display_data",
          "data": {
            "image/png": "[encoded data removed]",
            "text/plain": [
              "<Figure size 432x288 with 1 Axes>"
            ]
          },
          "metadata": {
            "tags": []
          }
        },
        {
          "output_type": "stream",
          "text": [
            "Predicted label: 1 and actual label: 1\n"
          ],
          "name": "stdout"
        },
        {
          "output_type": "display_data",
          "data": {
            "image/png": "[encoded data removed]",
            "text/plain": [
              "<Figure size 432x288 with 1 Axes>"
            ]
          },
          "metadata": {
            "tags": []
          }
        },
        {
          "output_type": "stream",
          "text": [
            "Predicted label: 0 and actual label: 0\n"
          ],
          "name": "stdout"
        },
        {
          "output_type": "display_data",
          "data": {
            "image/png": "[encoded data removed]",
            "text/plain": [
              "<Figure size 432x288 with 1 Axes>"
            ]
          },
          "metadata": {
            "tags": []
          }
        },
        {
          "output_type": "stream",
          "text": [
            "Predicted label: 4 and actual label: 4\n"
          ],
          "name": "stdout"
        },
        {
          "output_type": "display_data",
          "data": {
            "image/png": "[encoded data removed]",
            "text/plain": [
              "<Figure size 432x288 with 1 Axes>"
            ]
          },
          "metadata": {
            "tags": []
          }
        },
        {
          "output_type": "stream",
          "text": [
            "Predicted label: 1 and actual label: 1\n"
          ],
          "name": "stdout"
        },
        {
          "output_type": "display_data",
          "data": {
            "image/png": "[encoded data removed]",
            "text/plain": [
              "<Figure size 432x288 with 1 Axes>"
            ]
          },
          "metadata": {
            "tags": []
          }
        },
        {
          "output_type": "stream",
          "text": [
            "Predicted label: 4 and actual label: 4\n"
          ],
          "name": "stdout"
        },
        {
          "output_type": "display_data",
          "data": {
            "image/png": "[encoded data removed]",
            "text/plain": [
              "<Figure size 432x288 with 1 Axes>"
            ]
          },
          "metadata": {
            "tags": []
          }
        },
        {
          "output_type": "stream",
          "text": [
            "Predicted label: 9 and actual label: 9\n"
          ],
          "name": "stdout"
        },
        {
          "output_type": "display_data",
          "data": {
            "image/png": "[encoded data removed]",
            "text/plain": [
              "<Figure size 432x288 with 1 Axes>"
            ]
          },
          "metadata": {
            "tags": []
          }
        },
        {
          "output_type": "stream",
          "text": [
            "Predicted label: 5 and actual label: 5\n"
          ],
          "name": "stdout"
        },
        {
          "output_type": "display_data",
          "data": {
            "image/png": "[encoded data removed]",
            "text/plain": [
              "<Figure size 432x288 with 1 Axes>"
            ]
          },
          "metadata": {
            "tags": []
          }
        },
        {
          "output_type": "stream",
          "text": [
            "Predicted label: 9 and actual label: 9\n"
          ],
          "name": "stdout"
        },
        {
          "output_type": "display_data",
          "data": {
            "image/png": "[encoded data removed]",
            "text/plain": [
              "<Figure size 432x288 with 1 Axes>"
            ]
          },
          "metadata": {
            "tags": []
          }
        },
        {
          "output_type": "stream",
          "text": [
            "Predicted label: 0 and actual label: 0\n"
          ],
          "name": "stdout"
        },
        {
          "output_type": "display_data",
          "data": {
            "image/png": "[encoded data removed]",
            "text/plain": [
              "<Figure size 432x288 with 1 Axes>"
            ]
          },
          "metadata": {
            "tags": []
          }
        },
        {
          "output_type": "stream",
          "text": [
            "Predicted label: 6 and actual label: 6\n"
          ],
          "name": "stdout"
        },
        {
          "output_type": "display_data",
          "data": {
            "image/png": "[encoded data removed]",
            "text/plain": [
              "<Figure size 432x288 with 1 Axes>"
            ]
          },
          "metadata": {
            "tags": []
          }
        },
        {
          "output_type": "stream",
          "text": [
            "Predicted label: 9 and actual label: 9\n"
          ],
          "name": "stdout"
        },
        {
          "output_type": "display_data",
          "data": {
            "image/png": "[encoded data removed]",
            "text/plain": [
              "<Figure size 432x288 with 1 Axes>"
            ]
          },
          "metadata": {
            "tags": []
          }
        },
        {
          "output_type": "stream",
          "text": [
            "Predicted label: 0 and actual label: 0\n"
          ],
          "name": "stdout"
        },
        {
          "output_type": "display_data",
          "data": {
            "image/png": "[encoded data removed]",
            "text/plain": [
              "<Figure size 432x288 with 1 Axes>"
            ]
          },
          "metadata": {
            "tags": []
          }
        },
        {
          "output_type": "stream",
          "text": [
            "Predicted label: 1 and actual label: 1\n"
          ],
          "name": "stdout"
        },
        {
          "output_type": "display_data",
          "data": {
            "image/png": "[encoded data removed]",
            "text/plain": [
              "<Figure size 432x288 with 1 Axes>"
            ]
          },
          "metadata": {
            "tags": []
          }
        },
        {
          "output_type": "stream",
          "text": [
            "Predicted label: 5 and actual label: 5\n"
          ],
          "name": "stdout"
        },
        {
          "output_type": "display_data",
          "data": {
            "image/png": "[encoded data removed]",
            "text/plain": [
              "<Figure size 432x288 with 1 Axes>"
            ]
          },
          "metadata": {
            "tags": []
          }
        },
        {
          "output_type": "stream",
          "text": [
            "Predicted label: 9 and actual label: 9\n"
          ],
          "name": "stdout"
        },
        {
          "output_type": "display_data",
          "data": {
            "image/png": "[encoded data removed]",
            "text/plain": [
              "<Figure size 432x288 with 1 Axes>"
            ]
          },
          "metadata": {
            "tags": []
          }
        },
        {
          "output_type": "stream",
          "text": [
            "Predicted label: 7 and actual label: 7\n"
          ],
          "name": "stdout"
        },
        {
          "output_type": "display_data",
          "data": {
            "image/png": "[encoded data removed]",
            "text/plain": [
              "<Figure size 432x288 with 1 Axes>"
            ]
          },
          "metadata": {
            "tags": []
          }
        },
        {
          "output_type": "stream",
          "text": [
            "Predicted label: 3 and actual label: 3\n"
          ],
          "name": "stdout"
        },
        {
          "output_type": "display_data",
          "data": {
            "image/png": "[encoded data removed]",
            "text/plain": [
              "<Figure size 432x288 with 1 Axes>"
            ]
          },
          "metadata": {
            "tags": []
          }
        },
        {
          "output_type": "stream",
          "text": [
            "Predicted label: 4 and actual label: 4\n"
          ],
          "name": "stdout"
        },
        {
          "output_type": "display_data",
          "data": {
            "image/png": "[encoded data removed]",
            "text/plain": [
              "<Figure size 432x288 with 1 Axes>"
            ]
          },
          "metadata": {
            "tags": []
          }
        },
        {
          "output_type": "stream",
          "text": [
            "Predicted label: 9 and actual label: 9\n"
          ],
          "name": "stdout"
        },
        {
          "output_type": "display_data",
          "data": {
            "image/png": "[encoded data removed]",
            "text/plain": [
              "<Figure size 432x288 with 1 Axes>"
            ]
          },
          "metadata": {
            "tags": []
          }
        },
        {
          "output_type": "stream",
          "text": [
            "Predicted label: 6 and actual label: 6\n"
          ],
          "name": "stdout"
        },
        {
          "output_type": "display_data",
          "data": {
            "image/png": "[encoded data removed]",
            "text/plain": [
              "<Figure size 432x288 with 1 Axes>"
            ]
          },
          "metadata": {
            "tags": []
          }
        },
        {
          "output_type": "stream",
          "text": [
            "Predicted label: 6 and actual label: 6\n"
          ],
          "name": "stdout"
        },
        {
          "output_type": "display_data",
          "data": {
            "image/png": "[encoded data removed]",
            "text/plain": [
              "<Figure size 432x288 with 1 Axes>"
            ]
          },
          "metadata": {
            "tags": []
          }
        },
        {
          "output_type": "stream",
          "text": [
            "Predicted label: 5 and actual label: 5\n"
          ],
          "name": "stdout"
        },
        {
          "output_type": "display_data",
          "data": {
            "image/png": "[encoded data removed]",
            "text/plain": [
              "<Figure size 432x288 with 1 Axes>"
            ]
          },
          "metadata": {
            "tags": []
          }
        },
        {
          "output_type": "stream",
          "text": [
            "Predicted label: 4 and actual label: 4\n"
          ],
          "name": "stdout"
        },
        {
          "output_type": "display_data",
          "data": {
            "image/png": "[encoded data removed]",
            "text/plain": [
              "<Figure size 432x288 with 1 Axes>"
            ]
          },
          "metadata": {
            "tags": []
          }
        },
        {
          "output_type": "stream",
          "text": [
            "Predicted label: 0 and actual label: 0\n"
          ],
          "name": "stdout"
        },
        {
          "output_type": "display_data",
          "data": {
            "image/png": "[encoded data removed]",
            "text/plain": [
              "<Figure size 432x288 with 1 Axes>"
            ]
          },
          "metadata": {
            "tags": []
          }
        },
        {
          "output_type": "stream",
          "text": [
            "Predicted label: 7 and actual label: 7\n"
          ],
          "name": "stdout"
        },
        {
          "output_type": "display_data",
          "data": {
            "image/png": "[encoded data removed]",
            "text/plain": [
              "<Figure size 432x288 with 1 Axes>"
            ]
          },
          "metadata": {
            "tags": []
          }
        },
        {
          "output_type": "stream",
          "text": [
            "Predicted label: 4 and actual label: 4\n"
          ],
          "name": "stdout"
        },
        {
          "output_type": "display_data",
          "data": {
            "image/png": "[encoded data removed]",
            "text/plain": [
              "<Figure size 432x288 with 1 Axes>"
            ]
          },
          "metadata": {
            "tags": []
          }
        },
        {
          "output_type": "stream",
          "text": [
            "Predicted label: 0 and actual label: 0\n"
          ],
          "name": "stdout"
        },
        {
          "output_type": "display_data",
          "data": {
            "image/png": "[encoded data removed]",
            "text/plain": [
              "<Figure size 432x288 with 1 Axes>"
            ]
          },
          "metadata": {
            "tags": []
          }
        },
        {
          "output_type": "stream",
          "text": [
            "Predicted label: 1 and actual label: 1\n"
          ],
          "name": "stdout"
        },
        {
          "output_type": "display_data",
          "data": {
            "image/png": "[encoded data removed]",
            "text/plain": [
              "<Figure size 432x288 with 1 Axes>"
            ]
          },
          "metadata": {
            "tags": []
          }
        },
        {
          "output_type": "stream",
          "text": [
            "Predicted label: 3 and actual label: 3\n"
          ],
          "name": "stdout"
        },
        {
          "output_type": "display_data",
          "data": {
            "image/png": "[encoded data removed]",
            "text/plain": [
              "<Figure size 432x288 with 1 Axes>"
            ]
          },
          "metadata": {
            "tags": []
          }
        },
        {
          "output_type": "stream",
          "text": [
            "Predicted label: 1 and actual label: 1\n"
          ],
          "name": "stdout"
        },
        {
          "output_type": "display_data",
          "data": {
            "image/png": "[encoded data removed]",
            "text/plain": [
              "<Figure size 432x288 with 1 Axes>"
            ]
          },
          "metadata": {
            "tags": []
          }
        }
      ]
    },
    {
      "metadata": {
        "id": "88U5G9GTiH4q",
        "colab_type": "code",
        "colab": {}
      },
      "cell_type": "code",
      "source": [
        ""
      ],
      "execution_count": 0,
      "outputs": []
    },
    {
      "metadata": {
        "id": "c_nJGb8uiH7x",
        "colab_type": "code",
        "colab": {}
      },
      "cell_type": "code",
      "source": [
        ""
      ],
      "execution_count": 0,
      "outputs": []
    },
    {
      "metadata": {
        "id": "v_W_uursiH-6",
        "colab_type": "code",
        "colab": {}
      },
      "cell_type": "code",
      "source": [
        ""
      ],
      "execution_count": 0,
      "outputs": []
    },
    {
      "metadata": {
        "id": "uxj5UcEHiICR",
        "colab_type": "code",
        "colab": {}
      },
      "cell_type": "code",
      "source": [
        ""
      ],
      "execution_count": 0,
      "outputs": []
    },
    {
      "metadata": {
        "id": "SHc-lacxiIFa",
        "colab_type": "code",
        "colab": {}
      },
      "cell_type": "code",
      "source": [
        ""
      ],
      "execution_count": 0,
      "outputs": []
    },
    {
      "metadata": {
        "id": "y85CLA6XiII6",
        "colab_type": "code",
        "colab": {}
      },
      "cell_type": "code",
      "source": [
        ""
      ],
      "execution_count": 0,
      "outputs": []
    },
    {
      "metadata": {
        "id": "ywPs4pXsiIL7",
        "colab_type": "code",
        "colab": {}
      },
      "cell_type": "code",
      "source": [
        ""
      ],
      "execution_count": 0,
      "outputs": []
    },
    {
      "metadata": {
        "id": "kzSZQmqAiIPK",
        "colab_type": "code",
        "colab": {}
      },
      "cell_type": "code",
      "source": [
        ""
      ],
      "execution_count": 0,
      "outputs": []
    },
    {
      "metadata": {
        "id": "c43peWJfiISS",
        "colab_type": "code",
        "colab": {}
      },
      "cell_type": "code",
      "source": [
        ""
      ],
      "execution_count": 0,
      "outputs": []
    }
  ]
}